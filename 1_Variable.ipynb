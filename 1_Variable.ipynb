{
  "nbformat": 4,
  "nbformat_minor": 0,
  "metadata": {
    "colab": {
      "name": "1 Variable.ipynb",
      "provenance": [],
      "toc_visible": true,
      "authorship_tag": "ABX9TyOZTAaG88w4qeHJc2rP/dMz",
      "include_colab_link": true
    },
    "kernelspec": {
      "name": "python3",
      "display_name": "Python 3"
    },
    "language_info": {
      "name": "python"
    }
  },
  "cells": [
    {
      "cell_type": "markdown",
      "metadata": {
        "id": "view-in-github",
        "colab_type": "text"
      },
      "source": [
        "<a href=\"https://colab.research.google.com/github/Annashukla99/Machine_learning_alogithms_study_extensively/blob/main/1_Variable.ipynb\" target=\"_parent\"><img src=\"https://colab.research.google.com/assets/colab-badge.svg\" alt=\"Open In Colab\"/></a>"
      ]
    },
    {
      "cell_type": "code",
      "execution_count": null,
      "metadata": {
        "id": "pMi_uns4HzfB"
      },
      "outputs": [],
      "source": [
        "#variable are the containers that can hold data "
      ]
    },
    {
      "cell_type": "code",
      "source": [
        "a=1540\n",
        "b=452.5\n",
        "c=4578.65\n",
        "z=a+b+c\n",
        "z"
      ],
      "metadata": {
        "colab": {
          "base_uri": "https://localhost:8080/"
        },
        "id": "kObfVPiCIvby",
        "outputId": "4b487df0-09b5-4bb3-8c25-0c733129c4d2"
      },
      "execution_count": null,
      "outputs": [
        {
          "output_type": "execute_result",
          "data": {
            "text/plain": [
              "6571.15"
            ]
          },
          "metadata": {},
          "execution_count": 1
        }
      ]
    },
    {
      "cell_type": "code",
      "source": [
        "print(\"total is :\",z)"
      ],
      "metadata": {
        "colab": {
          "base_uri": "https://localhost:8080/"
        },
        "id": "ExPyi5D7I3Y7",
        "outputId": "fc357b4d-984a-45a1-f0f6-f270f374b128"
      },
      "execution_count": null,
      "outputs": [
        {
          "output_type": "stream",
          "name": "stdout",
          "text": [
            "total is : 6571.15\n"
          ]
        }
      ]
    },
    {
      "cell_type": "code",
      "source": [
        "#we can't assign a keyword to the name of variable (like true ,for,while )"
      ],
      "metadata": {
        "id": "9RLr6txaJJ35"
      },
      "execution_count": null,
      "outputs": []
    },
    {
      "cell_type": "code",
      "source": [
        "\n",
        " #Getting Started with Python\n",
        "\n",
        "import math\n",
        "\n",
        "#---------------------------------------------------------------------\n",
        "#                    Defining Variables\n",
        "#---------------------------------------------------------------------\n",
        "\n",
        "\n",
        "a='Manish'                # Character or string\n",
        "print(\"a is ...\",a)\n",
        "a=2                       # Integer\n",
        "print(\"a is ...\",a)\n",
        "b=3.2                     # Float\n",
        "print(\"b is ...\",b)\n",
        "\n",
        "#---------------------------------------------------------------------\n",
        "#                    Basic Mathematics\n",
        "#---------------------------------------------------------------------\n",
        "\n",
        "print('....................................................... 1')\n",
        "c=a+b                     # Addition\n",
        "print(\"c is ...\",c)\n",
        "d=a-b                     # Subtraction\n",
        "print(\"d is ...\",d)\n",
        "e=a*b                     # Multiplication\n",
        "print(\"e is ...\",e)\n",
        "f=a/b                     # Division\n",
        "print(\"f is ...\",f)\n",
        "g=a**b                    # Power\n",
        "print(\"g is ...\",g)\n",
        "\n",
        "#---------------------------------------------------------------------\n",
        "#                    Advanced Math\n",
        "#---------------------------------------------------------------------\n",
        "\n",
        "print('....................................................... 2')\n",
        "a=90\n",
        "print(\"Sine of a is ... \",math.sin(a))\n",
        "a=(math.pi)/2\n",
        "print(\"Sine of a is ... \",math.sin(a))\n",
        "a=8\n",
        "print(\"Log of a is ... \",math.log(a,8))\n",
        "print(\"Log of a is ... \",math.log(a,2))\n",
        "\n",
        "#---------------------------------------------------------------------\n",
        "#                    Typecasting\n",
        "#---------------------------------------------------------------------\n",
        "\n",
        "print('....................................................... 3')\n",
        "a=2.9\n",
        "print(\"a is ...\",a)\n",
        "a=int(a)\n",
        "print(\"a is ...\",a)\n",
        "a=float(a)\n",
        "print(\"a is ...\",a)\n",
        "\n",
        "#---------------------------------------------------------------------\n",
        "#                    Taking Input From User\n",
        "#---------------------------------------------------------------------\n",
        "\n",
        "print('....................................................... 4')\n",
        "a=input(\"Enter a string ... \")          # 'a' is by default a string\n",
        "print(\"a is ...\",a)\n",
        "\n",
        "print('....................................................... 4')\n",
        "a=int(input(\"Enter an integer ... \"))       # Notice typecasting in this\n",
        "print(\"a is ...\",a)\n",
        "\n",
        "print('....................................................... 4')\n",
        "a=float(input(\"Enter an float ... \"))       # Notice typecasting in this\n",
        "print(\"a is ...\",a)\n",
        "\n"
      ],
      "metadata": {
        "colab": {
          "base_uri": "https://localhost:8080/"
        },
        "id": "xzwRI1ulJ4gp",
        "outputId": "04bc05cb-f20e-428e-e7a5-4e941578a7e9"
      },
      "execution_count": null,
      "outputs": [
        {
          "output_type": "stream",
          "name": "stdout",
          "text": [
            "a is ... Manish\n",
            "a is ... 2\n",
            "b is ... 3.2\n",
            "....................................................... 1\n",
            "c is ... 5.2\n",
            "d is ... -1.2000000000000002\n",
            "e is ... 6.4\n",
            "f is ... 0.625\n",
            "g is ... 9.18958683997628\n",
            "....................................................... 2\n",
            "Sine of a is ...  0.8939966636005579\n",
            "Sine of a is ...  1.0\n",
            "Log of a is ...  1.0\n",
            "Log of a is ...  3.0\n",
            "....................................................... 3\n",
            "a is ... 2.9\n",
            "a is ... 2\n",
            "a is ... 2.0\n",
            "....................................................... 4\n",
            "Enter a string ... 45\n",
            "a is ... 45\n",
            "....................................................... 4\n",
            "Enter an integer ... 457\n",
            "a is ... 457\n",
            "....................................................... 4\n",
            "Enter an float ... 45.6\n",
            "a is ... 45.6\n"
          ]
        }
      ]
    }
  ]
}